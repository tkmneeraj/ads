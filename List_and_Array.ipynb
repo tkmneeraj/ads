{
 "cells": [
  {
   "cell_type": "markdown",
   "id": "a42b480c-2711-4838-8964-27fe91224983",
   "metadata": {},
   "source": [
    "# List"
   ]
  },
  {
   "cell_type": "code",
   "execution_count": 3,
   "id": "f2cb8335-f647-4917-9017-5d30f545dc18",
   "metadata": {},
   "outputs": [],
   "source": [
    "colors=[\"red\",\"green\"]"
   ]
  },
  {
   "cell_type": "code",
   "execution_count": 4,
   "id": "a8078a92-a203-4b36-bb3f-4fa279710211",
   "metadata": {},
   "outputs": [],
   "source": [
    "colors.remove(\"red\")\n"
   ]
  },
  {
   "cell_type": "code",
   "execution_count": 5,
   "id": "31de3570-1839-4b82-ace5-459458fd798c",
   "metadata": {},
   "outputs": [
    {
     "data": {
      "text/plain": [
       "['green']"
      ]
     },
     "execution_count": 5,
     "metadata": {},
     "output_type": "execute_result"
    }
   ],
   "source": [
    "colors\n"
   ]
  },
  {
   "cell_type": "code",
   "execution_count": 7,
   "id": "f5b9d033-fd5d-4d02-bae9-cb0f26001d64",
   "metadata": {},
   "outputs": [],
   "source": [
    "colors.insert(0,\"yellow\")"
   ]
  },
  {
   "cell_type": "code",
   "execution_count": 8,
   "id": "0e616cab-18cd-4484-a251-49d244c9f83a",
   "metadata": {},
   "outputs": [
    {
     "data": {
      "text/plain": [
       "['yellow', 'green']"
      ]
     },
     "execution_count": 8,
     "metadata": {},
     "output_type": "execute_result"
    }
   ],
   "source": [
    "colors\n"
   ]
  },
  {
   "cell_type": "code",
   "execution_count": 9,
   "id": "b5898ceb-7b8b-4123-97ac-f2883d9c52f9",
   "metadata": {},
   "outputs": [
    {
     "data": {
      "text/plain": [
       "1"
      ]
     },
     "execution_count": 9,
     "metadata": {},
     "output_type": "execute_result"
    }
   ],
   "source": [
    "colors.index(\"green\")\n"
   ]
  },
  {
   "cell_type": "code",
   "execution_count": 10,
   "id": "1dd50f89-8040-4e70-9afe-6ba1d0240625",
   "metadata": {},
   "outputs": [],
   "source": [
    "l1=[1,2,4,5,6,7,7,4]"
   ]
  },
  {
   "cell_type": "code",
   "execution_count": 12,
   "id": "17d08bb8-840b-481a-95f7-ee3d90254850",
   "metadata": {},
   "outputs": [
    {
     "data": {
      "text/plain": [
       "0"
      ]
     },
     "execution_count": 12,
     "metadata": {},
     "output_type": "execute_result"
    }
   ],
   "source": [
    "l1.count(3)"
   ]
  },
  {
   "cell_type": "code",
   "execution_count": 13,
   "id": "0c3839de-0922-4c9d-bb10-fa83a9e869b7",
   "metadata": {},
   "outputs": [],
   "source": [
    "l1.sort(reverse=True)"
   ]
  },
  {
   "cell_type": "code",
   "execution_count": 14,
   "id": "fe44bf53-3a34-4189-bc86-313eff0bb5c4",
   "metadata": {},
   "outputs": [
    {
     "data": {
      "text/plain": [
       "[7, 7, 6, 5, 4, 4, 2, 1]"
      ]
     },
     "execution_count": 14,
     "metadata": {},
     "output_type": "execute_result"
    }
   ],
   "source": [
    "l1\n"
   ]
  },
  {
   "cell_type": "code",
   "execution_count": 15,
   "id": "a333ceca-65c7-463a-b491-a7a91fb2ad22",
   "metadata": {},
   "outputs": [],
   "source": [
    "### insert a new number in secomd position"
   ]
  },
  {
   "cell_type": "code",
   "execution_count": 16,
   "id": "4e1f98db-a5e0-479d-8ec7-ca914745d84d",
   "metadata": {},
   "outputs": [],
   "source": [
    "list1=[12,22,44,33]"
   ]
  },
  {
   "cell_type": "code",
   "execution_count": 17,
   "id": "cb57d506-d24d-4a0b-9225-551ebf54fb39",
   "metadata": {},
   "outputs": [],
   "source": [
    "list1.append(2)"
   ]
  },
  {
   "cell_type": "code",
   "execution_count": 18,
   "id": "2b336a0c-825c-4b48-ab90-48874d92b1fd",
   "metadata": {},
   "outputs": [],
   "source": [
    "list1.insert(1,55)"
   ]
  },
  {
   "cell_type": "code",
   "execution_count": 19,
   "id": "782a26f1-737f-4591-bdaa-048218f89b9e",
   "metadata": {},
   "outputs": [
    {
     "data": {
      "text/plain": [
       "[12, 55, 22, 44, 33, 2]"
      ]
     },
     "execution_count": 19,
     "metadata": {},
     "output_type": "execute_result"
    }
   ],
   "source": [
    "list1"
   ]
  },
  {
   "cell_type": "code",
   "execution_count": 20,
   "id": "007bc3de-2c19-4b04-9aec-5e134ebf31b5",
   "metadata": {},
   "outputs": [],
   "source": [
    "l2=[\"redd\",\"green\",\"yellow\"]\n",
    "l2.extend(l1)"
   ]
  },
  {
   "cell_type": "code",
   "execution_count": 21,
   "id": "4842a728-ea0a-4cd1-8bf2-a2cb10aaff89",
   "metadata": {},
   "outputs": [
    {
     "data": {
      "text/plain": [
       "['redd', 'green', 'yellow', 7, 7, 6, 5, 4, 4, 2, 1]"
      ]
     },
     "execution_count": 21,
     "metadata": {},
     "output_type": "execute_result"
    }
   ],
   "source": [
    "l2"
   ]
  },
  {
   "cell_type": "code",
   "execution_count": 22,
   "id": "ac2b6644-5e86-4005-986f-6821c3273388",
   "metadata": {},
   "outputs": [
    {
     "name": "stdout",
     "output_type": "stream",
     "text": [
      "1\n"
     ]
    }
   ],
   "source": [
    "print(l2.pop())"
   ]
  },
  {
   "cell_type": "code",
   "execution_count": 23,
   "id": "875bf4e4-d6c0-491c-af5c-7b7d96573f42",
   "metadata": {},
   "outputs": [],
   "source": [
    "# ARRAY"
   ]
  },
  {
   "cell_type": "code",
   "execution_count": 25,
   "id": "65e57674-0952-4cd6-abe8-e5778b8c930b",
   "metadata": {},
   "outputs": [],
   "source": [
    "import numpy as np"
   ]
  },
  {
   "cell_type": "code",
   "execution_count": 26,
   "id": "f06bd8ee-ba3c-4cdc-9968-9852ffbc94cf",
   "metadata": {},
   "outputs": [],
   "source": [
    "a=np.array([1,2,4,3,5])"
   ]
  },
  {
   "cell_type": "code",
   "execution_count": 28,
   "id": "293beeab-293d-458b-9537-d52e04332b6d",
   "metadata": {},
   "outputs": [],
   "source": [
    "b=np.array([[1,2],[3,4]])"
   ]
  },
  {
   "cell_type": "code",
   "execution_count": 29,
   "id": "cd26969a-140c-45cc-843d-021195c4e1c3",
   "metadata": {},
   "outputs": [
    {
     "data": {
      "text/plain": [
       "array([[1, 2],\n",
       "       [3, 4]])"
      ]
     },
     "execution_count": 29,
     "metadata": {},
     "output_type": "execute_result"
    }
   ],
   "source": [
    "b"
   ]
  },
  {
   "cell_type": "code",
   "execution_count": 32,
   "id": "1dad7d97-f676-4ca2-82df-3f12af36ba85",
   "metadata": {},
   "outputs": [],
   "source": [
    "d=np.array([[1,4],[33,4]])"
   ]
  },
  {
   "cell_type": "code",
   "execution_count": 33,
   "id": "0e794e1a-da6d-4514-b277-c361b63511cc",
   "metadata": {},
   "outputs": [
    {
     "name": "stdout",
     "output_type": "stream",
     "text": [
      "[[ 2  6]\n",
      " [36  8]]\n"
     ]
    }
   ],
   "source": [
    "c=np.add(d,b)\n",
    "print(c)"
   ]
  },
  {
   "cell_type": "code",
   "execution_count": 34,
   "id": "c97ff01f-22f1-49b4-86dc-a52c4b3df9cb",
   "metadata": {},
   "outputs": [
    {
     "data": {
      "text/plain": [
       "array([[ 0,  2],\n",
       "       [30,  0]])"
      ]
     },
     "execution_count": 34,
     "metadata": {},
     "output_type": "execute_result"
    }
   ],
   "source": [
    "np.subtract(d,b)"
   ]
  },
  {
   "cell_type": "code",
   "execution_count": 36,
   "id": "70a2315d-6558-4630-9a52-32cfbfc8dfe0",
   "metadata": {},
   "outputs": [
    {
     "data": {
      "text/plain": [
       "array([[-0.03125  ,  0.03125  ],\n",
       "       [ 0.2578125, -0.0078125]])"
      ]
     },
     "execution_count": 36,
     "metadata": {},
     "output_type": "execute_result"
    }
   ],
   "source": [
    "np.linalg.inv(d)"
   ]
  },
  {
   "cell_type": "code",
   "execution_count": 37,
   "id": "cef93243-a926-42c1-adc2-737a7fa53878",
   "metadata": {},
   "outputs": [
    {
     "data": {
      "text/plain": [
       "array([[ 1, 33],\n",
       "       [ 4,  4]])"
      ]
     },
     "execution_count": 37,
     "metadata": {},
     "output_type": "execute_result"
    }
   ],
   "source": [
    "np.transpose(d)"
   ]
  },
  {
   "cell_type": "code",
   "execution_count": 38,
   "id": "7d35ea25-b40d-48fe-978a-75b106dc9ae3",
   "metadata": {},
   "outputs": [
    {
     "data": {
      "text/plain": [
       "np.float64(-2.0000000000000004)"
      ]
     },
     "execution_count": 38,
     "metadata": {},
     "output_type": "execute_result"
    }
   ],
   "source": [
    "np.linalg.det(b)"
   ]
  },
  {
   "cell_type": "code",
   "execution_count": 39,
   "id": "0347bc8e-21e2-4a68-9460-2b5c0cefc72c",
   "metadata": {},
   "outputs": [
    {
     "data": {
      "text/plain": [
       "np.int64(2)"
      ]
     },
     "execution_count": 39,
     "metadata": {},
     "output_type": "execute_result"
    }
   ],
   "source": [
    "np.linalg.matrix_rank(b)"
   ]
  },
  {
   "cell_type": "code",
   "execution_count": 42,
   "id": "500e3067-9f03-4bfc-99fa-55ccd94e61c6",
   "metadata": {},
   "outputs": [
    {
     "data": {
      "text/plain": [
       "np.int64(2)"
      ]
     },
     "execution_count": 42,
     "metadata": {},
     "output_type": "execute_result"
    }
   ],
   "source": [
    "l1=np.array([[1,1],[3,4]])\n",
    "np.linalg.matrix_rank(l1)"
   ]
  },
  {
   "cell_type": "markdown",
   "id": "72fcca52-b40f-4951-b9dd-c3d942251630",
   "metadata": {},
   "source": [
    "create two 3x3 matrices A+B.find the determinants of a and b.find rank of a and b"
   ]
  },
  {
   "cell_type": "code",
   "execution_count": 43,
   "id": "14956952-3777-4230-af51-7aa22a6075cb",
   "metadata": {},
   "outputs": [],
   "source": [
    "m1=np.array([[1,3,4],[3,2,3],[5,3,4]])\n",
    "m2=np.array([[5,3,5],[3,9,4],[2,3,5]])"
   ]
  },
  {
   "cell_type": "code",
   "execution_count": 45,
   "id": "c8c97eb2-a4c1-492c-b5aa-1981d00e4754",
   "metadata": {},
   "outputs": [],
   "source": [
    "addd=np.add(m1,m2)\n",
    "mul=np.dot(m1,m2)\n",
    "detm1=np.linalg.det(m1)\n",
    "detm2=np.linalg.det(m2)\n",
    "rank1=np.linalg.matrix_rank(m1)\n",
    "rank2=np.linalg.matrix_rank(m2)"
   ]
  },
  {
   "cell_type": "code",
   "execution_count": 46,
   "id": "93ae2c5e-af2c-461c-ba96-1ec2356c80f0",
   "metadata": {},
   "outputs": [
    {
     "data": {
      "text/plain": [
       "np.int64(3)"
      ]
     },
     "execution_count": 46,
     "metadata": {},
     "output_type": "execute_result"
    }
   ],
   "source": [
    "addd\n",
    "mul\n",
    "detm1\n",
    "detm2\n",
    "rank1\n",
    "rank2"
   ]
  },
  {
   "cell_type": "code",
   "execution_count": null,
   "id": "fc6f2bcd-dcbc-4f7f-8e7c-232aa1a3ab2e",
   "metadata": {},
   "outputs": [],
   "source": []
  }
 ],
 "metadata": {
  "kernelspec": {
   "display_name": "Python 3 (ipykernel)",
   "language": "python",
   "name": "python3"
  },
  "language_info": {
   "codemirror_mode": {
    "name": "ipython",
    "version": 3
   },
   "file_extension": ".py",
   "mimetype": "text/x-python",
   "name": "python",
   "nbconvert_exporter": "python",
   "pygments_lexer": "ipython3",
   "version": "3.12.3"
  }
 },
 "nbformat": 4,
 "nbformat_minor": 5
}
